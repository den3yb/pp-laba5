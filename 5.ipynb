{
 "cells": [
  {
   "cell_type": "code",
   "execution_count": 160,
   "metadata": {},
   "outputs": [
    {
     "name": "stdout",
     "output_type": "stream",
     "text": [
      "['и', 'в', 'во', 'не', 'что', 'он', 'на', 'я', 'с', 'со', 'как', 'а', 'то', 'все', 'она', 'так', 'его', 'но', 'да', 'ты', 'к', 'у', 'же', 'вы', 'за', 'бы', 'по', 'только', 'ее', 'мне', 'было', 'вот', 'от', 'меня', 'еще', 'нет', 'о', 'из', 'ему', 'теперь', 'когда', 'даже', 'ну', 'вдруг', 'ли', 'если', 'уже', 'или', 'ни', 'быть', 'был', 'него', 'до', 'вас', 'нибудь', 'опять', 'уж', 'вам', 'ведь', 'там', 'потом', 'себя', 'ничего', 'ей', 'может', 'они', 'тут', 'где', 'есть', 'надо', 'ней', 'для', 'мы', 'тебя', 'их', 'чем', 'была', 'сам', 'чтоб', 'без', 'будто', 'чего', 'раз', 'тоже', 'себе', 'под', 'будет', 'ж', 'тогда', 'кто', 'этот', 'того', 'потому', 'этого', 'какой', 'совсем', 'ним', 'здесь', 'этом', 'один', 'почти', 'мой', 'тем', 'чтобы', 'нее', 'сейчас', 'были', 'куда', 'зачем', 'всех', 'никогда', 'можно', 'при', 'наконец', 'два', 'об', 'другой', 'хоть', 'после', 'над', 'больше', 'тот', 'через', 'эти', 'нас', 'про', 'всего', 'них', 'какая', 'много', 'разве', 'три', 'эту', 'моя', 'впрочем', 'хорошо', 'свою', 'этой', 'перед', 'иногда', 'лучше', 'чуть', 'том', 'нельзя', 'такой', 'им', 'более', 'всегда', 'конечно', 'всю', 'между']\n"
     ]
    }
   ],
   "source": [
    "import torch\n",
    "import torch.nn as nn\n",
    "import torch.nn.functional as F\n",
    "from torch.autograd import Variable\n",
    "import torchvision\n",
    "import numpy as np\n",
    "import pandas \n",
    "import matplotlib.pyplot as plt\n",
    "import re\n",
    "import os\n",
    "\n",
    "import nltk\n",
    "from nltk.tokenize import word_tokenize\n",
    "from nltk import PorterStemmer\n",
    "from nltk import WordNetLemmatizer\n",
    "from nltk.corpus import stopwords\n",
    "\n",
    "from pymystem3 import Mystem\n",
    "\n",
    "\n",
    "from sklearn.feature_extraction.text import CountVectorizer\n",
    "from sklearn.model_selection import train_test_split\n",
    "\n",
    "\n",
    "\n",
    "russian_stopwords = stopwords.words(\"russian\")\n",
    "path = \"C:\\\\Proganiy\\\\pp-laba3\\\\annotation.csv\"\n",
    "print(russian_stopwords)"
   ]
  },
  {
   "cell_type": "code",
   "execution_count": 161,
   "metadata": {},
   "outputs": [
    {
     "name": "stdout",
     "output_type": "stream",
     "text": [
      "     Оценка Kоличество слов                                     Текст рецензии\n",
      "0         0            1853  11 марта этого года переводила 145 в Германию(...\n",
      "1         0            4278  В пятницу, 22 апреля 2022 г. Сбербанк заблокир...\n",
      "2         0            2035  Здравствуйте. Перед оформлением досудебной пре...\n",
      "3         0            3503  Я являюсь клиентом Сбербанка уже более десяти ...\n",
      "4         0            3340  Призываю предпринимателей подумать дважды, пре...\n",
      "...     ...             ...                                                ...\n",
      "2995      4             304  Сегодня хочу рассказать о Сбербанке. В этом пр...\n",
      "2996      4             863  Банк Сбербанк - это прекрасное финансовое учре...\n",
      "2997      4             979  Пользуюсь сбербанком сколько себя помню, зарпл...\n",
      "2998      4            2084  Я не сразу научилась пользоваться кредитной сб...\n",
      "2999      4             777  Пользуюсь сбербанком давно, никаких нарекании ...\n",
      "\n",
      "[3000 rows x 3 columns]\n"
     ]
    }
   ],
   "source": [
    "def create_ann(annatation: str) -> pandas.DataFrame:\n",
    "\n",
    "    \"\"\"Создаёт датафрейм по пути аннатации\"\"\"\n",
    "\n",
    "    frame = pandas.DataFrame(columns =[\"Оценка\",\"Kоличество слов\",\"Текст рецензии\"])\n",
    "    ann_temp = open(annatation, \"r\", encoding=\"utf-8\")\n",
    "    for otzv in ann_temp.readlines():\n",
    "        mas_otzv = otzv.split(\",\")\n",
    "        otzv_temp = open(mas_otzv[0],\"r\",encoding=\"utf-8\")\n",
    "        otzv_text = \" \".join(otzv_temp)\n",
    "        row = pandas.Series({\"Оценка\": int(mas_otzv[2])-1,\"Kоличество слов\": len(otzv_text), \"Текст рецензии\": otzv_text})\n",
    "        new_row = pandas.DataFrame([row], columns=frame.columns)\n",
    "        frame = pandas.concat([frame, new_row], ignore_index=True)\n",
    "    frame.dropna()\n",
    "    return frame\n",
    "\n",
    "data = create_ann(path)\n",
    "print(data)"
   ]
  },
  {
   "cell_type": "code",
   "execution_count": 162,
   "metadata": {},
   "outputs": [
    {
     "name": "stdout",
     "output_type": "stream",
     "text": [
      "     Оценка Kоличество слов                                     Текст рецензии\n",
      "0         0            1853   марта этого года переводила  в Германиюденежн...\n",
      "1         0            4278  В пятницу  апреля  г Сбербанк заблокировал мою...\n",
      "2         0            2035  Здравствуйте Перед оформлением досудебной прет...\n",
      "3         0            3503  Я являюсь клиентом Сбербанка уже более десяти ...\n",
      "4         0            3340  Призываю предпринимателей подумать дважды преж...\n",
      "...     ...             ...                                                ...\n",
      "2995      4             304  Сегодня хочу рассказать о Сбербанке В этом при...\n",
      "2996      4             863  Банк Сбербанк  это прекрасное финансовое учреж...\n",
      "2997      4             979  Пользуюсь сбербанком сколько себя помню зарпла...\n",
      "2998      4            2084  Я не сразу научилась пользоваться кредитной сб...\n",
      "2999      4             777  Пользуюсь сбербанком давно никаких нарекании н...\n",
      "\n",
      "[3000 rows x 3 columns]\n",
      "     Оценка Kоличество слов                                     Текст рецензии\n",
      "0         0            1853  [ , март,  , этот,  , год,  , переводить,   , ...\n",
      "1         0            4278  [в,  , пятница,   , апрель,   , г,  , сбербанк...\n",
      "2         0            2035  [здравствовать,  , перед,  , оформление,  , до...\n",
      "3         0            3503  [я,  , являться,  , клиент,  , сбербанк,  , уж...\n",
      "4         0            3340  [призывать,  , предприниматель,  , подумать,  ...\n",
      "...     ...             ...                                                ...\n",
      "2995      4             304  [сегодня,  , хотеть,  , рассказывать,  , о,  ,...\n",
      "2996      4             863  [банк,  , сбербанк,   , это,  , прекрасный,  ,...\n",
      "2997      4             979  [пользоваться,  , сбербанк,  , сколько,  , себ...\n",
      "2998      4            2084  [я,  , не,  , сразу,  , научаться,  , пользова...\n",
      "2999      4             777  [пользоваться,  , сбербанк,  , давно,  , никак...\n",
      "\n",
      "[3000 rows x 3 columns]\n",
      "     Оценка Kоличество слов                                     Текст рецензии\n",
      "0         0            1853    март   этот   год   переводить    в   герман...\n",
      "1         0            4278  в   пятница    апрель    г   сбербанк   заблок...\n",
      "2         0            2035  здравствовать   перед   оформление   досудебны...\n",
      "3         0            3503  я   являться   клиент   сбербанк   уже   много...\n",
      "4         0            3340  призывать   предприниматель   подумать   дважд...\n",
      "...     ...             ...                                                ...\n",
      "2995      4             304  сегодня   хотеть   рассказывать   о   сбербанк...\n",
      "2996      4             863  банк   сбербанк    это   прекрасный   финансов...\n",
      "2997      4             979  пользоваться   сбербанк   сколько   себя   пом...\n",
      "2998      4            2084  я   не   сразу   научаться   пользоваться   кр...\n",
      "2999      4             777  пользоваться   сбербанк   давно   никакой   на...\n",
      "\n",
      "[3000 rows x 3 columns]\n",
      "     Оценка Kоличество слов                                     Текст рецензии\n",
      "0         0            1853  [март, этот, год, переводить, в, германиюденеж...\n",
      "1         0            4278  [в, пятница, апрель, г, сбербанк, заблокироват...\n",
      "2         0            2035  [здравствовать, перед, оформление, досудебный,...\n",
      "3         0            3503  [я, являться, клиент, сбербанк, уже, много, де...\n",
      "4         0            3340  [призывать, предприниматель, подумать, дважды,...\n",
      "...     ...             ...                                                ...\n",
      "2995      4             304  [сегодня, хотеть, рассказывать, о, сбербанк, в...\n",
      "2996      4             863  [банк, сбербанк, это, прекрасный, финансовый, ...\n",
      "2997      4             979  [пользоваться, сбербанк, сколько, себя, помнит...\n",
      "2998      4            2084  [я, не, сразу, научаться, пользоваться, кредит...\n",
      "2999      4             777  [пользоваться, сбербанк, давно, никакой, нарек...\n",
      "\n",
      "[3000 rows x 3 columns]\n",
      "     Оценка Kоличество слов                                     Текст рецензии\n",
      "0         0            1853  март этот год переводить в германиюденежный ср...\n",
      "1         0            4278  в пятница апрель г сбербанк заблокировать мой ...\n",
      "2         0            2035  здравствовать перед оформление досудебный прет...\n",
      "3         0            3503  я являться клиент сбербанк уже много десять го...\n",
      "4         0            3340  призывать предприниматель подумать дважды преж...\n",
      "...     ...             ...                                                ...\n",
      "2995      4             304  сегодня хотеть рассказывать о сбербанк в это п...\n",
      "2996      4             863  банк сбербанк это прекрасный финансовый учрежд...\n",
      "2997      4             979  пользоваться сбербанк сколько себя помнить зар...\n",
      "2998      4            2084  я не сразу научаться пользоваться кредитный сб...\n",
      "2999      4             777  пользоваться сбербанк давно никакой нарекание ...\n",
      "\n",
      "[3000 rows x 3 columns]\n"
     ]
    }
   ],
   "source": [
    "def clean (frame: pandas.DataFrame) -> pandas.DataFrame:\n",
    "    frame[\"Текст рецензии\"] = frame[\"Текст рецензии\"].apply(delete_punc)\n",
    "    print(frame)\n",
    "    frame[\"Текст рецензии\"] = frame[\"Текст рецензии\"].apply(Mystem().lemmatize)\n",
    "    print(frame)\n",
    "    frame[\"Текст рецензии\"] = frame[\"Текст рецензии\"].apply(lambda x: ' '.join(x))\n",
    "    print(frame)\n",
    "    frame[\"Текст рецензии\"] = frame[\"Текст рецензии\"].apply(word_tokenize)\n",
    "    print(frame)\n",
    "    frame[\"Текст рецензии\"] = frame[\"Текст рецензии\"].apply(lambda x: ' '.join(x))\n",
    "    return frame\n",
    "\n",
    "def delete_punc(strings: str) -> str:\n",
    "    punc = '''!()-[]{};:'\",<>./?@#$%^&*~1234567890'''\n",
    "    for char in strings:\n",
    "        if char in punc:\n",
    "            strings = strings.replace(char, \"\")\n",
    "    return strings\n",
    "\n",
    "data = clean(data)\n",
    "print(data)"
   ]
  },
  {
   "cell_type": "code",
   "execution_count": 206,
   "metadata": {},
   "outputs": [
    {
     "name": "stdout",
     "output_type": "stream",
     "text": [
      "<class 'numpy.ndarray'>\n"
     ]
    }
   ],
   "source": [
    "\n",
    "max_words = 10000\n",
    "cv = CountVectorizer(max_features=max_words)\n",
    "sparse_matrix = cv.fit_transform(data['Текст рецензии']).toarray()\n",
    "sparse_matrix.shape\n",
    "\n",
    "print(type(np.array(data['Оценка'])))"
   ]
  },
  {
   "cell_type": "code",
   "execution_count": 207,
   "metadata": {},
   "outputs": [
    {
     "name": "stdout",
     "output_type": "stream",
     "text": [
      "{0: 117, 1: 116, 2: 116, 3: 117, 4: 134}\n"
     ]
    }
   ],
   "source": [
    "data['Оценка'] = data['Оценка'].astype (str).astype(int)\n",
    "a=np.array(data['Оценка'])\n",
    "x_train, x_, y_train, y_ = train_test_split(sparse_matrix, a, test_size=0.8)\n",
    "x_test, x, y_test, y = train_test_split(sparse_matrix, a, test_size=0.2)\n",
    "unique, counts = np.unique(y_train, return_counts=True)\n",
    "print(dict(zip(unique, counts)))\n",
    "x_train = Variable(torch.from_numpy(x_train)).float()\n",
    "y_train = Variable(torch.from_numpy(y_train)).long()\n",
    "x_test = Variable(torch.from_numpy(x_test)).float()\n",
    "y_test = Variable(torch.from_numpy(y_test)).long()"
   ]
  },
  {
   "cell_type": "code",
   "execution_count": 208,
   "metadata": {},
   "outputs": [],
   "source": [
    "\n",
    "\n",
    "class LogisticRegression(nn.Module):\n",
    "    def __init__(self):\n",
    "        super(LogisticRegression, self).__init__()\n",
    "        self.linear1 = nn.Linear(10000, 100)\n",
    "        self.linear2 = nn.Linear(100, 20)\n",
    "        self.linear3 = nn.Linear(20, 5)\n",
    "        \n",
    "    def forward(self, x):\n",
    "        x = F.relu(self.linear1(x))\n",
    "        x = F.relu(self.linear2(x))\n",
    "        x = self.linear3(x)\n",
    "        return F.softmax(x, dim=1)\n",
    "\n",
    "model = LogisticRegression()\n",
    "criterion = nn.CrossEntropyLoss()\n",
    "optimizer = torch.optim.Adam(params=model.parameters() , lr=0.001)\n",
    "\n",
    "\n"
   ]
  },
  {
   "cell_type": "code",
   "execution_count": 209,
   "metadata": {},
   "outputs": [
    {
     "name": "stdout",
     "output_type": "stream",
     "text": [
      "Epoch: 1, Accuracy: 22.5%\n",
      "Epoch: 2, Accuracy: 27.33333396911621%\n",
      "Epoch: 3, Accuracy: 31.16666603088379%\n",
      "Epoch: 4, Accuracy: 35.33333206176758%\n",
      "Epoch: 5, Accuracy: 37.83333206176758%\n",
      "Epoch: 6, Accuracy: 41.16666793823242%\n",
      "Epoch: 7, Accuracy: 45.33333206176758%\n",
      "Epoch: 8, Accuracy: 48.33333206176758%\n",
      "Epoch: 9, Accuracy: 53.0%\n"
     ]
    }
   ],
   "source": [
    "\n",
    "epochs = 9\n",
    "model.train()\n",
    "loss_values = []\n",
    "for epoch in range(epochs):\n",
    "    optimizer.zero_grad()\n",
    "    y_pred = model(x_train)\n",
    "    loss = criterion(y_pred, y_train)\n",
    "    loss_values.append(loss.item())\n",
    "    pred = torch.max(y_pred, 1)[1].eq(y_train).sum()\n",
    "    acc = pred * 100.0 / len(x_train)\n",
    "    print('Epoch: {}, Accuracy: {}%'.format(epoch+1, acc.numpy()))\n",
    "    loss.backward()\n",
    "    optimizer.step()"
   ]
  },
  {
   "cell_type": "code",
   "execution_count": 210,
   "metadata": {},
   "outputs": [
    {
     "name": "stdout",
     "output_type": "stream",
     "text": [
      "Accuracy : 33.375%\n"
     ]
    }
   ],
   "source": [
    "\n",
    "\n",
    "model.eval()\n",
    "with torch.no_grad():\n",
    "    y_pred = model(x_test)\n",
    "    loss = criterion(y_pred, y_test)\n",
    "    pred = torch.max(y_pred, 1)[1].eq(y_test).sum()\n",
    "    print (\"Accuracy : {}%\".format(100*pred/len(x_test)))"
   ]
  }
 ],
 "metadata": {
  "kernelspec": {
   "display_name": "Python 3",
   "language": "python",
   "name": "python3"
  },
  "language_info": {
   "codemirror_mode": {
    "name": "ipython",
    "version": 3
   },
   "file_extension": ".py",
   "mimetype": "text/x-python",
   "name": "python",
   "nbconvert_exporter": "python",
   "pygments_lexer": "ipython3",
   "version": "3.12.0"
  }
 },
 "nbformat": 4,
 "nbformat_minor": 2
}
